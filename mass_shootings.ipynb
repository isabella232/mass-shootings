{
 "cells": [
  {
   "cell_type": "code",
   "execution_count": 1,
   "metadata": {
    "collapsed": true,
    "deletable": true,
    "editable": true
   },
   "outputs": [],
   "source": [
    "# -*- coding: utf-8 -*-\n",
    "%matplotlib inline\n",
    "\n",
    "import pandas as pd\n",
    "import numpy as np\n",
    "import math\n",
    "import matplotlib as mplstyle\n",
    "import matplotlib.pyplot as plt\n",
    "import locale\n",
    "from locale import atof\n",
    "from dateutil import parser\n",
    "from datetime import datetime"
   ]
  },
  {
   "cell_type": "code",
   "execution_count": 2,
   "metadata": {
    "collapsed": true,
    "deletable": true,
    "editable": true
   },
   "outputs": [],
   "source": [
    "# Import data\n",
    "df = pd.read_csv('data/mass_shootings.csv')\n",
    "df_reworked = pd.read_csv('data/mass_shootings_reworked.csv')\n",
    "df_shooterData = pd.read_csv('data/mass_shooters.csv')"
   ]
  },
  {
   "cell_type": "code",
   "execution_count": 3,
   "metadata": {
    "collapsed": false,
    "deletable": true,
    "editable": true
   },
   "outputs": [
    {
     "data": {
      "text/plain": [
       "156"
      ]
     },
     "execution_count": 3,
     "metadata": {},
     "output_type": "execute_result"
    }
   ],
   "source": [
    "# Count number of occurances\n",
    "df.State.count()"
   ]
  },
  {
   "cell_type": "code",
   "execution_count": 4,
   "metadata": {
    "collapsed": true,
    "deletable": true,
    "editable": true
   },
   "outputs": [],
   "source": [
    "# Sort occurances by state\n",
    "df_stateOccurances = pd.value_counts(df['State'].values, sort=True)\n",
    "df_stateOccurances = df_stateOccurances.reset_index()\n",
    "df_stateOccurances = df_stateOccurances.rename(columns = {'index':'state', 0:'count'})"
   ]
  },
  {
   "cell_type": "code",
   "execution_count": 5,
   "metadata": {
    "collapsed": false,
    "deletable": true,
    "editable": true
   },
   "outputs": [
    {
     "data": {
      "text/plain": [
       "<matplotlib.axes._subplots.AxesSubplot at 0x1109cbd90>"
      ]
     },
     "execution_count": 5,
     "metadata": {},
     "output_type": "execute_result"
    },
    {
     "data": {
      "image/png": "[encoded data removed]",
      "text/plain": [
       "<matplotlib.figure.Figure at 0x1109cb1d0>"
      ]
     },
     "metadata": {},
     "output_type": "display_data"
    }
   ],
   "source": [
    "# Graph by state\n",
    "df_stateOccurances.plot(kind='bar',x='state',y='count')"
   ]
  },
  {
   "cell_type": "code",
   "execution_count": 6,
   "metadata": {
    "collapsed": false,
    "deletable": true,
    "editable": true
   },
   "outputs": [
    {
     "data": {
      "text/plain": [
       "No         89\n",
       "Yes        66\n",
       "Unknown     1\n",
       "dtype: int64"
      ]
     },
     "execution_count": 6,
     "metadata": {},
     "output_type": "execute_result"
    },
    {
     "data": {
      "image/png": "[encoded data removed]",
      "text/plain": [
       "<matplotlib.figure.Figure at 0x1109986d0>"
      ]
     },
     "metadata": {},
     "output_type": "display_data"
    }
   ],
   "source": [
    "# Count number of shooter suicides\n",
    "# df_stateOccurances = pd.value_counts(df['State'].values, sort=True)\n",
    "df_suicideCount = pd.value_counts(df['Shooter Suicide'].values)\n",
    "\n",
    "# Graph\n",
    "df_suicideCount.plot(kind='bar')\n",
    "df_suicideCount"
   ]
  },
  {
   "cell_type": "code",
   "execution_count": 7,
   "metadata": {
    "collapsed": false,
    "deletable": true,
    "editable": true
   },
   "outputs": [
    {
     "data": {
      "text/html": [
       "<div>\n",
       "<table border=\"1\" class=\"dataframe\">\n",
       "  <thead>\n",
       "    <tr style=\"text-align: right;\">\n",
       "      <th></th>\n",
       "      <th>handgun</th>\n",
       "      <th>assult weapon</th>\n",
       "      <th>other</th>\n",
       "      <th>unknown</th>\n",
       "    </tr>\n",
       "  </thead>\n",
       "  <tbody>\n",
       "    <tr>\n",
       "      <th>0</th>\n",
       "      <td>139</td>\n",
       "      <td>17</td>\n",
       "      <td>37</td>\n",
       "      <td>33</td>\n",
       "    </tr>\n",
       "  </tbody>\n",
       "</table>\n",
       "</div>"
      ],
      "text/plain": [
       "   handgun  assult weapon  other  unknown\n",
       "0      139             17     37       33"
      ]
     },
     "execution_count": 7,
     "metadata": {},
     "output_type": "execute_result"
    }
   ],
   "source": [
    "# Count number of guns used \n",
    "\n",
    "# Make a new dataframe\n",
    "df_weaponsUsed = pd.DataFrame()\n",
    "\n",
    "# Add summed amounts of each gun type to dataframe\n",
    "df_weaponsUsed['handgun'] = [df['Handgun'].sum()]\n",
    "df_weaponsUsed['assult weapon'] = [df['Assault Weapon'].sum()]\n",
    "df_weaponsUsed['other'] = [df['Other'].sum()]\n",
    "df_weaponsUsed['unknown'] = [df['Unknown'].sum()]\n",
    "\n",
    "df_weaponsUsed"
   ]
  },
  {
   "cell_type": "code",
   "execution_count": 8,
   "metadata": {
    "collapsed": false,
    "deletable": true,
    "editable": true
   },
   "outputs": [
    {
     "data": {
      "text/plain": [
       "<matplotlib.axes._subplots.AxesSubplot at 0x110d63c50>"
      ]
     },
     "execution_count": 8,
     "metadata": {},
     "output_type": "execute_result"
    },
    {
     "data": {
      "image/png": "[encoded data removed]",
      "text/plain": [
       "<matplotlib.figure.Figure at 0x110d632d0>"
      ]
     },
     "metadata": {},
     "output_type": "display_data"
    }
   ],
   "source": [
    "# Count number of incidents by amount of victims\n",
    "df_totalShot = pd.value_counts(df['TOTAL SHOT (Not Including Shooter)'].values, sort=True)\n",
    "df_totalShot = df_totalShot.reset_index()\n",
    "df_totalShot = df_totalShot.rename(columns = {'index':'num shot', 0:'count'})\n",
    "df_totalShot.to_\n",
    "\n",
    "# Graph\n",
    "df_totalShot.plot(kind='bar',x='num shot',y='count')"
   ]
  },
  {
   "cell_type": "code",
   "execution_count": 9,
   "metadata": {
    "collapsed": false,
    "deletable": true,
    "editable": true
   },
   "outputs": [
    {
     "data": {
      "text/plain": [
       "7.7999999999999998"
      ]
     },
     "execution_count": 9,
     "metadata": {},
     "output_type": "execute_result"
    }
   ],
   "source": [
    "# Average number of vitims per incident\n",
    "df_totalShot['count'].mean()"
   ]
  },
  {
   "cell_type": "code",
   "execution_count": 10,
   "metadata": {
    "collapsed": false,
    "deletable": true,
    "editable": true
   },
   "outputs": [
    {
     "data": {
      "text/html": [
       "<div>\n",
       "<table border=\"1\" class=\"dataframe\">\n",
       "  <thead>\n",
       "    <tr style=\"text-align: right;\">\n",
       "      <th></th>\n",
       "      <th>gender</th>\n",
       "      <th>count</th>\n",
       "    </tr>\n",
       "  </thead>\n",
       "  <tbody>\n",
       "    <tr>\n",
       "      <th>0</th>\n",
       "      <td>Male</td>\n",
       "      <td>146</td>\n",
       "    </tr>\n",
       "    <tr>\n",
       "      <th>1</th>\n",
       "      <td>Unknown</td>\n",
       "      <td>20</td>\n",
       "    </tr>\n",
       "    <tr>\n",
       "      <th>2</th>\n",
       "      <td>Female</td>\n",
       "      <td>10</td>\n",
       "    </tr>\n",
       "  </tbody>\n",
       "</table>\n",
       "</div>"
      ],
      "text/plain": [
       "    gender  count\n",
       "0     Male    146\n",
       "1  Unknown     20\n",
       "2   Female     10"
      ]
     },
     "execution_count": 10,
     "metadata": {},
     "output_type": "execute_result"
    },
    {
     "data": {
      "image/png": "[encoded data removed]",
      "text/plain": [
       "<matplotlib.figure.Figure at 0x110ffdb90>"
      ]
     },
     "metadata": {},
     "output_type": "display_data"
    }
   ],
   "source": [
    "# Breakdown gender data\n",
    "df_shooterGenderData = pd.value_counts(df_shooterData['Gender'].values, sort=True)\n",
    "df_shooterGenderData = df_shooterGenderData.reset_index()\n",
    "df_shooterGenderData = df_shooterGenderData.rename(columns = {'index':'gender', 0:'count'})\n",
    "\n",
    "# Graph\n",
    "df_shooterGenderData.plot(kind='bar',x='gender',y='count')\n",
    "df_shooterGenderData"
   ]
  },
  {
   "cell_type": "code",
   "execution_count": 11,
   "metadata": {
    "collapsed": false,
    "deletable": true,
    "editable": true
   },
   "outputs": [],
   "source": [
    "# Function to remove unknowns and NaNs from cells \n",
    "def removeUnknown(item):\n",
    "    if item == 'Unknown':\n",
    "        return 'NA'\n",
    "    elif item == 'nan':\n",
    "        return 'NA'\n",
    "    else:\n",
    "        return item\n",
    "\n",
    "# Duplicate shooter data\n",
    "df_shooterAgeData = df_shooterData\n",
    "\n",
    "# Apply removeUnknown function to age column\n",
    "df_shooterAgeData['Age'] = df_shooterData['Age'].apply(removeUnknown)\n",
    "# df_shooterAgeData"
   ]
  },
  {
   "cell_type": "code",
   "execution_count": 12,
   "metadata": {
    "collapsed": false,
    "deletable": true,
    "editable": true
   },
   "outputs": [],
   "source": [
    "# Filter out ages that are not numbers\n",
    "df_shooterFilteredAge = df_shooterData[df_shooterData['Age'] != 'NA']\n",
    "df_shooterFilteredAge.to_csv('exported_data/df_shooterFilteredAge.csv')"
   ]
  },
  {
   "cell_type": "code",
   "execution_count": null,
   "metadata": {
    "collapsed": true,
    "deletable": true,
    "editable": true
   },
   "outputs": [],
   "source": []
  }
 ],
 "metadata": {
  "kernelspec": {
   "display_name": "Python 2",
   "language": "python",
   "name": "python2"
  },
  "language_info": {
   "codemirror_mode": {
    "name": "ipython",
    "version": 2
   },
   "file_extension": ".py",
   "mimetype": "text/x-python",
   "name": "python",
   "nbconvert_exporter": "python",
   "pygments_lexer": "ipython2",
   "version": "2.7.12"
  }
 },
 "nbformat": 4,
 "nbformat_minor": 2
}
